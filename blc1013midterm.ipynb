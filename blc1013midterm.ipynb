{
 "cells": [
  {
   "cell_type": "code",
   "execution_count": 1,
   "id": "19071be3",
   "metadata": {},
   "outputs": [],
   "source": [
    "import os\n",
    "import shutil\n",
    "import torch\n",
    "import torch.nn as nn\n",
    "import torch.optim as optim\n",
    "from torch.utils.data import DataLoader, Dataset\n",
    "from torchvision import transforms, models, datasets\n",
    "from sklearn.model_selection import train_test_split\n",
    "from collections import Counter\n",
    "from PIL import Image\n",
    "import gc"
   ]
  },
  {
   "cell_type": "code",
   "execution_count": 2,
   "id": "fc05e7d9",
   "metadata": {},
   "outputs": [
    {
     "data": {
      "text/plain": [
       "5"
      ]
     },
     "execution_count": 2,
     "metadata": {},
     "output_type": "execute_result"
    }
   ],
   "source": [
    "torch.cuda.empty_cache()\n",
    "gc.collect()"
   ]
  },
  {
   "cell_type": "code",
   "execution_count": 3,
   "id": "a4ce84ab",
   "metadata": {},
   "outputs": [],
   "source": [
    "Dataset= r\"C:\\Users\\krish\\Downloads\\bone break dataset\\Bone Break Classification\\Bone Break Classification Processed\"\n",
    "processed_data = Dataset"
   ]
  },
  {
   "cell_type": "code",
   "execution_count": 4,
   "id": "fab4e411",
   "metadata": {},
   "outputs": [],
   "source": [
    "def augment_image(image):\n",
    "    augmentations = [\n",
    "        transforms.RandomRotation(30),\n",
    "        transforms.RandomAffine(0, shear=15, scale=(0.7, 1.3)),\n",
    "        transforms.RandomHorizontalFlip(),\n",
    "        transforms.RandomVerticalFlip(),\n",
    "        transforms.ColorJitter(brightness=0.4, contrast=0.4, saturation=0.4, hue=0.2),\n",
    "        transforms.RandomPerspective(distortion_scale=0.5, p=0.5),\n",
    "        transforms.RandomGrayscale(p=0.2)\n",
    "    ]\n",
    "    transform = transforms.Compose([transforms.RandomChoice(augmentations), transforms.ToTensor()])\n",
    "    return transform(image)\n"
   ]
  },
  {
   "cell_type": "code",
   "execution_count": 5,
   "id": "083d251d",
   "metadata": {},
   "outputs": [],
   "source": [
    "def balance_classes():\n",
    "    train_path = os.path.join(processed_data, 'train')\n",
    "    if not os.path.exists(train_path):\n",
    "        raise FileNotFoundError(f\"Train directory not found: {train_path}\")\n",
    "    \n",
    "    class_counts = {}\n",
    "    for cls in os.listdir(train_path):\n",
    "        cls_path = os.path.join(train_path, cls)\n",
    "        if os.path.isdir(cls_path):\n",
    "            images = [img for img in os.listdir(cls_path) if img.endswith(('png', 'jpg', 'jpeg'))]\n",
    "            class_counts[cls] = len(images)\n",
    "    \n",
    "    if not class_counts:\n",
    "        raise ValueError(\"No images found in training dataset.\")\n",
    "    \n",
    "    max_count = max(class_counts.values())\n",
    "    print(\"Class distribution before balancing:\", class_counts)"
   ]
  },
  {
   "cell_type": "code",
   "execution_count": 6,
   "id": "10663a80",
   "metadata": {},
   "outputs": [
    {
     "name": "stdout",
     "output_type": "stream",
     "text": [
      "Class distribution before balancing: {'Avulsion fracture': 109, 'Comminuted fracture': 134, 'Fracture Dislocation': 137, 'Greenstick fracture': 106, 'Hairline Fracture': 101, 'Impacted fracture': 75, 'Longitudinal fracture': 68, 'Oblique fracture': 69, 'Pathological fracture': 116, 'Spiral Fracture': 74}\n"
     ]
    }
   ],
   "source": [
    "balance_classes()"
   ]
  },
  {
   "cell_type": "code",
   "execution_count": 7,
   "id": "edfc456a",
   "metadata": {},
   "outputs": [],
   "source": [
    "transform = {\n",
    "    'train': transforms.Compose([\n",
    "        transforms.Resize((224, 224)),\n",
    "        transforms.RandomHorizontalFlip(),\n",
    "        transforms.RandomRotation(20),\n",
    "        transforms.ColorJitter(brightness=0.2, contrast=0.2),\n",
    "        transforms.ToTensor(),\n",
    "        transforms.Normalize([0.5, 0.5, 0.5], [0.5, 0.5, 0.5])\n",
    "    ]),\n",
    "    'test': transforms.Compose([\n",
    "        transforms.Resize((224, 224)),\n",
    "        transforms.ToTensor(),\n",
    "        transforms.Normalize([0.5, 0.5, 0.5], [0.5, 0.5, 0.5])\n",
    "    ])\n",
    "}"
   ]
  },
  {
   "cell_type": "code",
   "execution_count": 8,
   "id": "40de4537",
   "metadata": {},
   "outputs": [],
   "source": [
    "dataset = {split: datasets.ImageFolder(root=os.path.join(processed_data, split), transform=transform[split]) \n",
    "           for split in ['train', 'test']}\n",
    "\n",
    "dataloader = {split: DataLoader(dataset[split], batch_size=16, shuffle=True, num_workers=2)\n",
    "              for split in ['train', 'test']}"
   ]
  },
  {
   "cell_type": "code",
   "execution_count": 9,
   "id": "40c7be87",
   "metadata": {},
   "outputs": [],
   "source": [
    "class BoneFractureModel(nn.Module):\n",
    "    def __init__(self, num_classes=10):\n",
    "        super(BoneFractureModel, self).__init__()\n",
    "        self.model = models.resnet18(pretrained=True)\n",
    "        self.model.fc = nn.Sequential(\n",
    "            nn.Dropout(0.3),  # Added dropout for regularization\n",
    "            nn.Linear(self.model.fc.in_features, num_classes)\n",
    "        )\n",
    "        #self.model.fc = nn.Linear(self.model.fc.in_features, num_classes)\n",
    "    \n",
    "    def forward(self, x):\n",
    "        return self.model(x)"
   ]
  },
  {
   "cell_type": "code",
   "execution_count": 10,
   "id": "35e903f8",
   "metadata": {},
   "outputs": [
    {
     "name": "stderr",
     "output_type": "stream",
     "text": [
      "C:\\Users\\krish\\AppData\\Local\\Programs\\Python\\Python311\\Lib\\site-packages\\torchvision\\models\\_utils.py:208: UserWarning: The parameter 'pretrained' is deprecated since 0.13 and may be removed in the future, please use 'weights' instead.\n",
      "  warnings.warn(\n",
      "C:\\Users\\krish\\AppData\\Local\\Programs\\Python\\Python311\\Lib\\site-packages\\torchvision\\models\\_utils.py:223: UserWarning: Arguments other than a weight enum or `None` for 'weights' are deprecated since 0.13 and may be removed in the future. The current behavior is equivalent to passing `weights=ResNet18_Weights.IMAGENET1K_V1`. You can also use `weights=ResNet18_Weights.DEFAULT` to get the most up-to-date weights.\n",
      "  warnings.warn(msg)\n"
     ]
    }
   ],
   "source": [
    "device = torch.device(\"cuda\" if torch.cuda.is_available() else \"cpu\")\n",
    "model = BoneFractureModel(num_classes=10).to(device)\n",
    "\n",
    "criterion = nn.CrossEntropyLoss()\n",
    "optimizer = optim.Adam(model.parameters(), lr=0.001)\n",
    "#optimizer = optim.Adam(model.parameters(), lr=0.01)  # Start with high LR\n",
    "#scheduler = optim.lr_scheduler.StepLR(optimizer, step_size=5, gamma=0.1)  # Reduce LR every 5 epochs"
   ]
  },
  {
   "cell_type": "code",
   "execution_count": 11,
   "id": "a0c4664f",
   "metadata": {},
   "outputs": [],
   "source": [
    "def train_model(epochs=80):\n",
    "    for epoch in range(epochs):\n",
    "        model.train()\n",
    "        running_loss = 0.0\n",
    "        correct = 0\n",
    "        total = 0\n",
    "        for inputs, labels in dataloader['train']:\n",
    "            inputs, labels = inputs.to(device), labels.to(device)\n",
    "            optimizer.zero_grad()\n",
    "            outputs = model(inputs)\n",
    "            loss = criterion(outputs, labels)\n",
    "            loss.backward()\n",
    "            optimizer.step()\n",
    "            running_loss += loss.item()\n",
    "            _, predicted = torch.max(outputs, 1)\n",
    "            correct += (predicted == labels).sum().item()\n",
    "            total += labels.size(0)\n",
    "        train_accuracy = 100 * correct / total\n",
    "        print(f\"Epoch {epoch+1}/{epochs}, Loss: {running_loss/len(dataloader['train'])}, Accuracy: {train_accuracy:.2f}%\")\n",
    "        "
   ]
  },
  {
   "cell_type": "code",
   "execution_count": 12,
   "id": "1c595b5a",
   "metadata": {},
   "outputs": [],
   "source": [
    "def test_model():\n",
    "    model.eval()\n",
    "    correct = 0\n",
    "    total = 0\n",
    "    with torch.no_grad():\n",
    "        for inputs, labels in dataloader['test']:\n",
    "            inputs, labels = inputs.to(device), labels.to(device)\n",
    "            outputs = model(inputs)\n",
    "            _, predicted = torch.max(outputs, 1)\n",
    "            correct += (predicted == labels).sum().item()\n",
    "            total += labels.size(0)\n",
    "    test_accuracy = 100 * correct / total\n",
    "    print(f\"Final Test Accuracy: {test_accuracy:.2f}%\")"
   ]
  },
  {
   "cell_type": "code",
   "execution_count": 13,
   "id": "a73d5228",
   "metadata": {},
   "outputs": [
    {
     "name": "stdout",
     "output_type": "stream",
     "text": [
      "Epoch 1/80, Loss: 2.3799915640584883, Accuracy: 15.77%\n",
      "Epoch 2/80, Loss: 2.2158697882006244, Accuracy: 19.51%\n",
      "Epoch 3/80, Loss: 2.1579455887117693, Accuracy: 24.87%\n",
      "Epoch 4/80, Loss: 2.1125929663258214, Accuracy: 26.90%\n",
      "Epoch 5/80, Loss: 2.093701602951173, Accuracy: 26.59%\n",
      "Epoch 6/80, Loss: 2.026901823859061, Accuracy: 29.93%\n",
      "Epoch 7/80, Loss: 1.9643663552499586, Accuracy: 32.25%\n",
      "Epoch 8/80, Loss: 1.9057581059394344, Accuracy: 35.19%\n",
      "Epoch 9/80, Loss: 1.8839016383694065, Accuracy: 35.69%\n",
      "Epoch 10/80, Loss: 1.8312791316739974, Accuracy: 34.48%\n",
      "Epoch 11/80, Loss: 1.7782299230175633, Accuracy: 39.43%\n",
      "Epoch 12/80, Loss: 1.753892396726916, Accuracy: 39.64%\n",
      "Epoch 13/80, Loss: 1.700439541570602, Accuracy: 41.05%\n",
      "Epoch 14/80, Loss: 1.6251674063744084, Accuracy: 44.59%\n",
      "Epoch 15/80, Loss: 1.5743282081619385, Accuracy: 47.02%\n",
      "Epoch 16/80, Loss: 1.5494909622976858, Accuracy: 47.02%\n",
      "Epoch 17/80, Loss: 1.4986407766419072, Accuracy: 49.04%\n",
      "Epoch 18/80, Loss: 1.3909481927271812, Accuracy: 53.49%\n",
      "Epoch 19/80, Loss: 1.4005486138405339, Accuracy: 50.96%\n",
      "Epoch 20/80, Loss: 1.3102637077531507, Accuracy: 55.92%\n",
      "Epoch 21/80, Loss: 1.321065681595956, Accuracy: 55.21%\n",
      "Epoch 22/80, Loss: 1.2187219204441193, Accuracy: 59.35%\n",
      "Epoch 23/80, Loss: 1.112501439548308, Accuracy: 63.50%\n",
      "Epoch 24/80, Loss: 1.0515514804470925, Accuracy: 64.00%\n",
      "Epoch 25/80, Loss: 1.0801659005303537, Accuracy: 65.12%\n",
      "Epoch 26/80, Loss: 0.9939923041289852, Accuracy: 67.24%\n",
      "Epoch 27/80, Loss: 0.9144233272921655, Accuracy: 69.77%\n",
      "Epoch 28/80, Loss: 0.8323136231591625, Accuracy: 72.50%\n",
      "Epoch 29/80, Loss: 0.8192487767627162, Accuracy: 72.90%\n",
      "Epoch 30/80, Loss: 0.6751784663046559, Accuracy: 77.05%\n",
      "Epoch 31/80, Loss: 0.6410325251279338, Accuracy: 78.87%\n",
      "Epoch 32/80, Loss: 0.680486521893932, Accuracy: 77.05%\n",
      "Epoch 33/80, Loss: 0.6812141934229482, Accuracy: 78.36%\n",
      "Epoch 34/80, Loss: 0.6344330178633812, Accuracy: 79.98%\n",
      "Epoch 35/80, Loss: 0.5150433733097969, Accuracy: 82.41%\n",
      "Epoch 36/80, Loss: 0.5171180077858509, Accuracy: 82.91%\n",
      "Epoch 37/80, Loss: 0.4579723259854701, Accuracy: 84.63%\n",
      "Epoch 38/80, Loss: 0.41191868291747186, Accuracy: 86.15%\n",
      "Epoch 39/80, Loss: 0.4097044918565981, Accuracy: 85.95%\n",
      "Epoch 40/80, Loss: 0.37103583819923863, Accuracy: 87.46%\n",
      "Epoch 41/80, Loss: 0.4069778843512458, Accuracy: 86.25%\n",
      "Epoch 42/80, Loss: 0.34891407708487204, Accuracy: 88.47%\n",
      "Epoch 43/80, Loss: 0.3412850648164749, Accuracy: 88.78%\n",
      "Epoch 44/80, Loss: 0.3128578801068567, Accuracy: 89.59%\n",
      "Epoch 45/80, Loss: 0.2220291077429729, Accuracy: 92.92%\n",
      "Epoch 46/80, Loss: 0.3133506150615792, Accuracy: 90.19%\n",
      "Epoch 47/80, Loss: 0.25489874860091555, Accuracy: 92.42%\n",
      "Epoch 48/80, Loss: 0.2136137469281112, Accuracy: 93.23%\n",
      "Epoch 49/80, Loss: 0.2618445136374043, Accuracy: 90.50%\n",
      "Epoch 50/80, Loss: 0.2528384729258476, Accuracy: 92.01%\n",
      "Epoch 51/80, Loss: 0.27148790564388037, Accuracy: 90.29%\n",
      "Epoch 52/80, Loss: 0.27163385116164723, Accuracy: 91.20%\n",
      "Epoch 53/80, Loss: 0.2597105773466249, Accuracy: 91.91%\n",
      "Epoch 54/80, Loss: 0.2627053381274304, Accuracy: 91.41%\n",
      "Epoch 55/80, Loss: 0.2841788094130255, Accuracy: 90.70%\n",
      "Epoch 56/80, Loss: 0.3104049702205004, Accuracy: 90.09%\n",
      "Epoch 57/80, Loss: 0.26824864817242466, Accuracy: 90.60%\n",
      "Epoch 58/80, Loss: 0.22190591638847704, Accuracy: 93.33%\n",
      "Epoch 59/80, Loss: 0.18961624098160573, Accuracy: 93.02%\n",
      "Epoch 60/80, Loss: 0.1830695684428417, Accuracy: 93.63%\n",
      "Epoch 61/80, Loss: 0.11876876676274885, Accuracy: 96.16%\n",
      "Epoch 62/80, Loss: 0.1459453739075651, Accuracy: 95.15%\n",
      "Epoch 63/80, Loss: 0.14626548901921319, Accuracy: 94.64%\n",
      "Epoch 64/80, Loss: 0.19596561173262494, Accuracy: 93.63%\n",
      "Epoch 65/80, Loss: 0.2143862110772921, Accuracy: 93.63%\n",
      "Epoch 66/80, Loss: 0.19002978240830765, Accuracy: 93.53%\n",
      "Epoch 67/80, Loss: 0.15118168650435343, Accuracy: 94.44%\n",
      "Epoch 68/80, Loss: 0.10306998490235739, Accuracy: 96.36%\n",
      "Epoch 69/80, Loss: 0.15299629384741908, Accuracy: 94.74%\n",
      "Epoch 70/80, Loss: 0.14463526166735158, Accuracy: 94.84%\n",
      "Epoch 71/80, Loss: 0.19852959442388027, Accuracy: 92.82%\n",
      "Epoch 72/80, Loss: 0.2208143715716658, Accuracy: 92.42%\n",
      "Epoch 73/80, Loss: 0.18804395469581528, Accuracy: 93.73%\n",
      "Epoch 74/80, Loss: 0.25827330275769195, Accuracy: 92.01%\n",
      "Epoch 75/80, Loss: 0.16248410919140424, Accuracy: 93.73%\n",
      "Epoch 76/80, Loss: 0.166753284422861, Accuracy: 93.83%\n",
      "Epoch 77/80, Loss: 0.19216137280267093, Accuracy: 93.53%\n",
      "Epoch 78/80, Loss: 0.18910927251882612, Accuracy: 94.03%\n",
      "Epoch 79/80, Loss: 0.16797861999141112, Accuracy: 94.74%\n",
      "Epoch 80/80, Loss: 0.1563738447148353, Accuracy: 94.14%\n",
      "Final Test Accuracy: 43.57%\n"
     ]
    }
   ],
   "source": [
    "train_model()\n",
    "test_model()"
   ]
  },
  {
   "cell_type": "code",
   "execution_count": null,
   "id": "0ab7ef34",
   "metadata": {},
   "outputs": [],
   "source": []
  }
 ],
 "metadata": {
  "kernelspec": {
   "display_name": "Python 3.11 (PyTorch)",
   "language": "python",
   "name": "python311"
  },
  "language_info": {
   "codemirror_mode": {
    "name": "ipython",
    "version": 3
   },
   "file_extension": ".py",
   "mimetype": "text/x-python",
   "name": "python",
   "nbconvert_exporter": "python",
   "pygments_lexer": "ipython3",
   "version": "3.11.6"
  }
 },
 "nbformat": 4,
 "nbformat_minor": 5
}
