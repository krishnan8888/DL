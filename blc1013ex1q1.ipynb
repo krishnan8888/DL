{
 "cells": [
  {
   "cell_type": "code",
   "execution_count": 15,
   "id": "65a985ac",
   "metadata": {},
   "outputs": [],
   "source": [
    "import numpy as np\n",
    "import matplotlib.pyplot as plt"
   ]
  },
  {
   "cell_type": "code",
   "execution_count": 16,
   "id": "37bafd19",
   "metadata": {},
   "outputs": [],
   "source": [
    "def sigmoid(x):\n",
    "    \"\"\"Sigmoid function\"\"\"\n",
    "    return 1.0 / (1.0 + np.exp(-x))"
   ]
  },
  {
   "cell_type": "code",
   "execution_count": 17,
   "id": "a3f81e35",
   "metadata": {},
   "outputs": [],
   "source": [
    "def threshhold(x):\n",
    "    if(x>=0):\n",
    "        return 1.0\n",
    "    else:\n",
    "        return 0.0"
   ]
  },
  {
   "cell_type": "code",
   "execution_count": 18,
   "id": "6dddbfc1",
   "metadata": {},
   "outputs": [],
   "source": [
    "def logic_gate(w1, w2, b):\n",
    "    return lambda x1, x2: threshhold(w1 * x1 + w2 * x2 + b)\n",
    "\n",
    "def test(gate):\n",
    "    for a, b in (0, 0), (0, 1), (1, 0), (1, 1):\n",
    "        print(\"{}, {}: {}\".format(a, b, gate(a, b)))"
   ]
  },
  {
   "cell_type": "code",
   "execution_count": 19,
   "id": "40abe414",
   "metadata": {},
   "outputs": [
    {
     "name": "stdout",
     "output_type": "stream",
     "text": [
      "0, 0: 0.0\n",
      "0, 1: 1.0\n",
      "1, 0: 1.0\n",
      "1, 1: 1.0\n"
     ]
    }
   ],
   "source": [
    "or_gate = logic_gate(20, 20, -10)\n",
    "test(or_gate)"
   ]
  },
  {
   "cell_type": "code",
   "execution_count": 20,
   "id": "bda140cf",
   "metadata": {},
   "outputs": [
    {
     "name": "stdout",
     "output_type": "stream",
     "text": [
      "0, 0: 0.0\n",
      "0, 1: 0.0\n",
      "1, 0: 0.0\n",
      "1, 1: 1.0\n"
     ]
    }
   ],
   "source": [
    "and_gate = logic_gate(5, 5, -10)\n",
    "test(and_gate)"
   ]
  },
  {
   "cell_type": "code",
   "execution_count": 21,
   "id": "777e27eb",
   "metadata": {},
   "outputs": [
    {
     "name": "stdout",
     "output_type": "stream",
     "text": [
      "0, 0: 0.0\n",
      "0, 1: 1.0\n",
      "1, 0: 1.0\n",
      "1, 1: 0.0\n"
     ]
    }
   ],
   "source": [
    "nand_gate = logic_gate(-10, -10, 15)\n",
    "xor_gate = lambda x1, x2: and_gate(nand_gate(x1, x2), or_gate(x1, x2))\n",
    "test(xor_gate)"
   ]
  },
  {
   "cell_type": "code",
   "execution_count": 23,
   "id": "bd2f32c8",
   "metadata": {},
   "outputs": [
    {
     "name": "stdout",
     "output_type": "stream",
     "text": [
      "0, 0: 1.0\n",
      "0, 1: 0.0\n",
      "1, 0: 0.0\n",
      "1, 1: 1.0\n"
     ]
    }
   ],
   "source": [
    "not_gate = lambda x: threshhold(-10 * x + 5)  \n",
    "xnor_gate = lambda x1, x2: or_gate(and_gate(x1, x2),and_gate(not_gate(x1),not_gate(x2)))\n",
    "test(xnor_gate)"
   ]
  },
  {
   "cell_type": "code",
   "execution_count": null,
   "id": "ae0a7615",
   "metadata": {},
   "outputs": [],
   "source": []
  }
 ],
 "metadata": {
  "kernelspec": {
   "display_name": "Python 3 (ipykernel)",
   "language": "python",
   "name": "python3"
  },
  "language_info": {
   "codemirror_mode": {
    "name": "ipython",
    "version": 3
   },
   "file_extension": ".py",
   "mimetype": "text/x-python",
   "name": "python",
   "nbconvert_exporter": "python",
   "pygments_lexer": "ipython3",
   "version": "3.11.5"
  }
 },
 "nbformat": 4,
 "nbformat_minor": 5
}
