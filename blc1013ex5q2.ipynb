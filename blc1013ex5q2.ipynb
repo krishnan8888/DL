{
 "cells": [
  {
   "cell_type": "code",
   "execution_count": 1,
   "id": "2688f75b",
   "metadata": {},
   "outputs": [],
   "source": [
    "import numpy as np\n",
    "import pandas as pd\n",
    "import torch\n",
    "import torch.nn as nn\n",
    "import torch.optim as optim\n",
    "from torch.utils.data import DataLoader, TensorDataset\n",
    "from sklearn.preprocessing import MinMaxScaler\n",
    "import gc"
   ]
  },
  {
   "cell_type": "code",
   "execution_count": 2,
   "id": "b056d27f",
   "metadata": {},
   "outputs": [],
   "source": [
    "gc.collect()\n",
    "torch.cuda.empty_cache()"
   ]
  },
  {
   "cell_type": "code",
   "execution_count": 3,
   "id": "060ff872",
   "metadata": {},
   "outputs": [
    {
     "name": "stderr",
     "output_type": "stream",
     "text": [
      "C:\\Users\\krish\\AppData\\Local\\Temp\\ipykernel_7152\\1122546878.py:8: FutureWarning: A value is trying to be set on a copy of a DataFrame or Series through chained assignment using an inplace method.\n",
      "The behavior will change in pandas 3.0. This inplace method will never work because the intermediate object on which we are setting values always behaves as a copy.\n",
      "\n",
      "For example, when doing 'df[col].method(value, inplace=True)', try using 'df.method({col: value}, inplace=True)' or df[col] = df[col].method(value) instead, to perform the operation inplace on the original object.\n",
      "\n",
      "\n",
      "  df[col].fillna(df[col].mode()[0], inplace=True)  # Fill categorical with most frequent\n",
      "C:\\Users\\krish\\AppData\\Local\\Temp\\ipykernel_7152\\1122546878.py:10: FutureWarning: A value is trying to be set on a copy of a DataFrame or Series through chained assignment using an inplace method.\n",
      "The behavior will change in pandas 3.0. This inplace method will never work because the intermediate object on which we are setting values always behaves as a copy.\n",
      "\n",
      "For example, when doing 'df[col].method(value, inplace=True)', try using 'df.method({col: value}, inplace=True)' or df[col] = df[col].method(value) instead, to perform the operation inplace on the original object.\n",
      "\n",
      "\n",
      "  df[col].fillna(df[col].median(), inplace=True)  # Fill numeric with median\n",
      "C:\\Users\\krish\\AppData\\Local\\Temp\\ipykernel_7152\\1122546878.py:10: FutureWarning: A value is trying to be set on a copy of a DataFrame or Series through chained assignment using an inplace method.\n",
      "The behavior will change in pandas 3.0. This inplace method will never work because the intermediate object on which we are setting values always behaves as a copy.\n",
      "\n",
      "For example, when doing 'df[col].method(value, inplace=True)', try using 'df.method({col: value}, inplace=True)' or df[col] = df[col].method(value) instead, to perform the operation inplace on the original object.\n",
      "\n",
      "\n",
      "  df[col].fillna(df[col].median(), inplace=True)  # Fill numeric with median\n",
      "C:\\Users\\krish\\AppData\\Local\\Temp\\ipykernel_7152\\1122546878.py:10: FutureWarning: A value is trying to be set on a copy of a DataFrame or Series through chained assignment using an inplace method.\n",
      "The behavior will change in pandas 3.0. This inplace method will never work because the intermediate object on which we are setting values always behaves as a copy.\n",
      "\n",
      "For example, when doing 'df[col].method(value, inplace=True)', try using 'df.method({col: value}, inplace=True)' or df[col] = df[col].method(value) instead, to perform the operation inplace on the original object.\n",
      "\n",
      "\n",
      "  df[col].fillna(df[col].median(), inplace=True)  # Fill numeric with median\n",
      "C:\\Users\\krish\\AppData\\Local\\Temp\\ipykernel_7152\\1122546878.py:10: FutureWarning: A value is trying to be set on a copy of a DataFrame or Series through chained assignment using an inplace method.\n",
      "The behavior will change in pandas 3.0. This inplace method will never work because the intermediate object on which we are setting values always behaves as a copy.\n",
      "\n",
      "For example, when doing 'df[col].method(value, inplace=True)', try using 'df.method({col: value}, inplace=True)' or df[col] = df[col].method(value) instead, to perform the operation inplace on the original object.\n",
      "\n",
      "\n",
      "  df[col].fillna(df[col].median(), inplace=True)  # Fill numeric with median\n",
      "C:\\Users\\krish\\AppData\\Local\\Temp\\ipykernel_7152\\1122546878.py:10: FutureWarning: A value is trying to be set on a copy of a DataFrame or Series through chained assignment using an inplace method.\n",
      "The behavior will change in pandas 3.0. This inplace method will never work because the intermediate object on which we are setting values always behaves as a copy.\n",
      "\n",
      "For example, when doing 'df[col].method(value, inplace=True)', try using 'df.method({col: value}, inplace=True)' or df[col] = df[col].method(value) instead, to perform the operation inplace on the original object.\n",
      "\n",
      "\n",
      "  df[col].fillna(df[col].median(), inplace=True)  # Fill numeric with median\n",
      "C:\\Users\\krish\\AppData\\Local\\Temp\\ipykernel_7152\\1122546878.py:10: FutureWarning: A value is trying to be set on a copy of a DataFrame or Series through chained assignment using an inplace method.\n",
      "The behavior will change in pandas 3.0. This inplace method will never work because the intermediate object on which we are setting values always behaves as a copy.\n",
      "\n",
      "For example, when doing 'df[col].method(value, inplace=True)', try using 'df.method({col: value}, inplace=True)' or df[col] = df[col].method(value) instead, to perform the operation inplace on the original object.\n",
      "\n",
      "\n",
      "  df[col].fillna(df[col].median(), inplace=True)  # Fill numeric with median\n",
      "C:\\Users\\krish\\AppData\\Local\\Temp\\ipykernel_7152\\1122546878.py:10: FutureWarning: A value is trying to be set on a copy of a DataFrame or Series through chained assignment using an inplace method.\n",
      "The behavior will change in pandas 3.0. This inplace method will never work because the intermediate object on which we are setting values always behaves as a copy.\n",
      "\n",
      "For example, when doing 'df[col].method(value, inplace=True)', try using 'df.method({col: value}, inplace=True)' or df[col] = df[col].method(value) instead, to perform the operation inplace on the original object.\n",
      "\n",
      "\n",
      "  df[col].fillna(df[col].median(), inplace=True)  # Fill numeric with median\n",
      "C:\\Users\\krish\\AppData\\Local\\Temp\\ipykernel_7152\\1122546878.py:10: FutureWarning: A value is trying to be set on a copy of a DataFrame or Series through chained assignment using an inplace method.\n",
      "The behavior will change in pandas 3.0. This inplace method will never work because the intermediate object on which we are setting values always behaves as a copy.\n",
      "\n",
      "For example, when doing 'df[col].method(value, inplace=True)', try using 'df.method({col: value}, inplace=True)' or df[col] = df[col].method(value) instead, to perform the operation inplace on the original object.\n",
      "\n",
      "\n",
      "  df[col].fillna(df[col].median(), inplace=True)  # Fill numeric with median\n",
      "C:\\Users\\krish\\AppData\\Local\\Temp\\ipykernel_7152\\1122546878.py:10: FutureWarning: A value is trying to be set on a copy of a DataFrame or Series through chained assignment using an inplace method.\n",
      "The behavior will change in pandas 3.0. This inplace method will never work because the intermediate object on which we are setting values always behaves as a copy.\n",
      "\n",
      "For example, when doing 'df[col].method(value, inplace=True)', try using 'df.method({col: value}, inplace=True)' or df[col] = df[col].method(value) instead, to perform the operation inplace on the original object.\n",
      "\n",
      "\n",
      "  df[col].fillna(df[col].median(), inplace=True)  # Fill numeric with median\n",
      "C:\\Users\\krish\\AppData\\Local\\Temp\\ipykernel_7152\\1122546878.py:10: FutureWarning: A value is trying to be set on a copy of a DataFrame or Series through chained assignment using an inplace method.\n",
      "The behavior will change in pandas 3.0. This inplace method will never work because the intermediate object on which we are setting values always behaves as a copy.\n",
      "\n",
      "For example, when doing 'df[col].method(value, inplace=True)', try using 'df.method({col: value}, inplace=True)' or df[col] = df[col].method(value) instead, to perform the operation inplace on the original object.\n",
      "\n",
      "\n",
      "  df[col].fillna(df[col].median(), inplace=True)  # Fill numeric with median\n",
      "C:\\Users\\krish\\AppData\\Local\\Temp\\ipykernel_7152\\1122546878.py:10: FutureWarning: A value is trying to be set on a copy of a DataFrame or Series through chained assignment using an inplace method.\n",
      "The behavior will change in pandas 3.0. This inplace method will never work because the intermediate object on which we are setting values always behaves as a copy.\n",
      "\n",
      "For example, when doing 'df[col].method(value, inplace=True)', try using 'df.method({col: value}, inplace=True)' or df[col] = df[col].method(value) instead, to perform the operation inplace on the original object.\n",
      "\n",
      "\n",
      "  df[col].fillna(df[col].median(), inplace=True)  # Fill numeric with median\n",
      "C:\\Users\\krish\\AppData\\Local\\Temp\\ipykernel_7152\\1122546878.py:10: FutureWarning: A value is trying to be set on a copy of a DataFrame or Series through chained assignment using an inplace method.\n",
      "The behavior will change in pandas 3.0. This inplace method will never work because the intermediate object on which we are setting values always behaves as a copy.\n",
      "\n",
      "For example, when doing 'df[col].method(value, inplace=True)', try using 'df.method({col: value}, inplace=True)' or df[col] = df[col].method(value) instead, to perform the operation inplace on the original object.\n",
      "\n",
      "\n",
      "  df[col].fillna(df[col].median(), inplace=True)  # Fill numeric with median\n"
     ]
    }
   ],
   "source": [
    "df = pd.read_csv(r\"C:\\Users\\krish\\Downloads\\archive (8)\\NIFTY50_all.csv\")\n",
    "\n",
    "# Drop non-numeric columns\n",
    "df.drop(columns=[\"Symbol\", \"Series\"], inplace=True)\n",
    "\n",
    "for col in df.columns:\n",
    "    if df[col].dtype == \"object\":  \n",
    "        df[col].fillna(df[col].mode()[0], inplace=True)  # Fill categorical with most frequent\n",
    "    else:\n",
    "        df[col].fillna(df[col].median(), inplace=True)  # Fill numeric with median\n",
    "        \n",
    "scaler = MinMaxScaler()\n",
    "df_scaled = pd.DataFrame(scaler.fit_transform(df.iloc[:, 1:]), columns=df.columns[1:])  # Skip date column\n"
   ]
  },
  {
   "cell_type": "code",
   "execution_count": 4,
   "id": "576f9936",
   "metadata": {},
   "outputs": [],
   "source": [
    "SEQ_LENGTH = 100"
   ]
  },
  {
   "cell_type": "code",
   "execution_count": 5,
   "id": "9ba8d4ce",
   "metadata": {},
   "outputs": [],
   "source": [
    "def create_sequences(data, seq_length):\n",
    "    X, y = [], []\n",
    "    for i in range(len(data) - seq_length):\n",
    "        X.append(data[i:i + seq_length].values)  # Past 30 days\n",
    "        y.append(data.iloc[i + seq_length].values)  # Predict next day\n",
    "    return np.array(X), np.array(y)"
   ]
  },
  {
   "cell_type": "code",
   "execution_count": 6,
   "id": "e4d3e034",
   "metadata": {},
   "outputs": [],
   "source": [
    "X, y = create_sequences(df_scaled, SEQ_LENGTH)\n",
    "X_train, y_train = torch.tensor(X[:-200], dtype=torch.float32), torch.tensor(y[:-200], dtype=torch.float32)\n",
    "X_test, y_test = torch.tensor(X[-200:], dtype=torch.float32), torch.tensor(y[-200:], dtype=torch.float32)"
   ]
  },
  {
   "cell_type": "code",
   "execution_count": 7,
   "id": "635c9338",
   "metadata": {},
   "outputs": [],
   "source": [
    "device = torch.device(\"cuda\" if torch.cuda.is_available() else \"cpu\")\n",
    "X_train, y_train = X_train.to(device), y_train.to(device)\n",
    "X_test, y_test = X_test.to(device), y_test.to(device)"
   ]
  },
  {
   "cell_type": "code",
   "execution_count": 8,
   "id": "f84b9eea",
   "metadata": {},
   "outputs": [],
   "source": [
    "train_dataset = TensorDataset(X_train, y_train)\n",
    "train_loader = DataLoader(train_dataset, batch_size=32, shuffle=True)"
   ]
  },
  {
   "cell_type": "code",
   "execution_count": 9,
   "id": "7d977757",
   "metadata": {},
   "outputs": [],
   "source": [
    "class RNNModel(nn.Module):\n",
    "    def __init__(self, input_dim, hidden_dim=128, num_layers=2, output_dim=10):\n",
    "        super(RNNModel, self).__init__()\n",
    "        self.rnn = nn.RNN(input_dim, hidden_dim, num_layers, batch_first=True)\n",
    "        self.fc = nn.Linear(hidden_dim, output_dim)\n",
    "\n",
    "    def forward(self, x):\n",
    "        out, _ = self.rnn(x)\n",
    "        return self.fc(out[:, -1, :])"
   ]
  },
  {
   "cell_type": "code",
   "execution_count": 10,
   "id": "60fd3e8d",
   "metadata": {},
   "outputs": [],
   "source": [
    "class LSTMModel(nn.Module):\n",
    "    def __init__(self, input_dim, hidden_dim=128, num_layers=2, output_dim=10):\n",
    "        super(LSTMModel, self).__init__()\n",
    "        self.lstm = nn.LSTM(input_dim, hidden_dim, num_layers, batch_first=True)\n",
    "        self.fc = nn.Linear(hidden_dim, output_dim)\n",
    "\n",
    "    def forward(self, x):\n",
    "        out, _ = self.lstm(x)\n",
    "        return self.fc(out[:, -1, :])"
   ]
  },
  {
   "cell_type": "code",
   "execution_count": 11,
   "id": "78606ae0",
   "metadata": {},
   "outputs": [],
   "source": [
    "class BiLSTMModel(nn.Module):\n",
    "    def __init__(self, input_dim, hidden_dim=128, num_layers=2, output_dim=10):\n",
    "        super(BiLSTMModel, self).__init__()\n",
    "        self.lstm = nn.LSTM(input_dim, hidden_dim, num_layers, batch_first=True, bidirectional=True)\n",
    "        self.fc = nn.Linear(hidden_dim * 2, output_dim)  # Double size due to bidirection\n",
    "\n",
    "    def forward(self, x):\n",
    "        out, _ = self.lstm(x)\n",
    "        return self.fc(out[:, -1, :])"
   ]
  },
  {
   "cell_type": "code",
   "execution_count": 12,
   "id": "a9fd946e",
   "metadata": {},
   "outputs": [],
   "source": [
    "class LSTMWithDropout(nn.Module):\n",
    "    def __init__(self, input_dim, hidden_dim=128, num_layers=2, output_dim=10, dropout=0.3):\n",
    "        super(LSTMWithDropout, self).__init__()\n",
    "        self.lstm = nn.LSTM(input_dim, hidden_dim, num_layers, batch_first=True, dropout=dropout)\n",
    "        self.fc = nn.Linear(hidden_dim, output_dim)\n",
    "\n",
    "    def forward(self, x):\n",
    "        out, _ = self.lstm(x)\n",
    "        return self.fc(out[:, -1, :])"
   ]
  },
  {
   "cell_type": "code",
   "execution_count": 13,
   "id": "0f57cd2b",
   "metadata": {},
   "outputs": [],
   "source": [
    "input_dim = X_train.shape[2]\n",
    "output_dim = y_train.shape[1]\n",
    "\n",
    "models = {\n",
    "    \"RNN\": RNNModel(input_dim, output_dim=output_dim).to(device),\n",
    "    \"LSTM\": LSTMModel(input_dim, output_dim=output_dim).to(device),\n",
    "    \"BiLSTM\": BiLSTMModel(input_dim, output_dim=output_dim).to(device),\n",
    "    \"LSTM_Dropout\": LSTMWithDropout(input_dim, output_dim=output_dim).to(device),\n",
    "}\n"
   ]
  },
  {
   "cell_type": "code",
   "execution_count": 14,
   "id": "49ddd965",
   "metadata": {},
   "outputs": [],
   "source": [
    "def train_model(model, name, epochs=10):\n",
    "    optimizer = optim.Adam(model.parameters(), lr=0.001)\n",
    "    criterion = nn.MSELoss()\n",
    "    \n",
    "    for epoch in range(epochs):\n",
    "        total_loss = 0\n",
    "        for X_batch, y_batch in train_loader:\n",
    "            optimizer.zero_grad()\n",
    "            y_pred = model(X_batch)\n",
    "            loss = criterion(y_pred, y_batch)\n",
    "            loss.backward()\n",
    "            optimizer.step()\n",
    "            total_loss += loss.item()\n",
    "        print(f\" {name} - Epoch {epoch+1}/{epochs}, Loss: {total_loss / len(train_loader):.4f}\")\n"
   ]
  },
  {
   "cell_type": "code",
   "execution_count": 15,
   "id": "08b37ccf",
   "metadata": {},
   "outputs": [
    {
     "name": "stdout",
     "output_type": "stream",
     "text": [
      " Training RNN model...\n",
      " RNN - Epoch 1/10, Loss: 0.0011\n",
      " RNN - Epoch 2/10, Loss: 0.0023\n",
      " RNN - Epoch 3/10, Loss: 0.0012\n",
      " RNN - Epoch 4/10, Loss: 0.0011\n",
      " RNN - Epoch 5/10, Loss: 0.0011\n",
      " RNN - Epoch 6/10, Loss: 0.0011\n",
      " RNN - Epoch 7/10, Loss: 0.0011\n",
      " RNN - Epoch 8/10, Loss: 0.0011\n",
      " RNN - Epoch 9/10, Loss: 0.0011\n",
      " RNN - Epoch 10/10, Loss: 0.0011\n",
      " Training LSTM model...\n",
      " LSTM - Epoch 1/10, Loss: 0.0011\n",
      " LSTM - Epoch 2/10, Loss: 0.0010\n",
      " LSTM - Epoch 3/10, Loss: 0.0010\n",
      " LSTM - Epoch 4/10, Loss: 0.0010\n",
      " LSTM - Epoch 5/10, Loss: 0.0010\n",
      " LSTM - Epoch 6/10, Loss: 0.0010\n",
      " LSTM - Epoch 7/10, Loss: 0.0010\n",
      " LSTM - Epoch 8/10, Loss: 0.0010\n",
      " LSTM - Epoch 9/10, Loss: 0.0010\n",
      " LSTM - Epoch 10/10, Loss: 0.0010\n",
      " Training BiLSTM model...\n",
      " BiLSTM - Epoch 1/10, Loss: 0.0010\n",
      " BiLSTM - Epoch 2/10, Loss: 0.0010\n",
      " BiLSTM - Epoch 3/10, Loss: 0.0010\n",
      " BiLSTM - Epoch 4/10, Loss: 0.0010\n",
      " BiLSTM - Epoch 5/10, Loss: 0.0010\n",
      " BiLSTM - Epoch 6/10, Loss: 0.0010\n",
      " BiLSTM - Epoch 7/10, Loss: 0.0010\n",
      " BiLSTM - Epoch 8/10, Loss: 0.0010\n",
      " BiLSTM - Epoch 9/10, Loss: 0.0010\n",
      " BiLSTM - Epoch 10/10, Loss: 0.0010\n",
      " Training LSTM_Dropout model...\n",
      " LSTM_Dropout - Epoch 1/10, Loss: 0.0011\n",
      " LSTM_Dropout - Epoch 2/10, Loss: 0.0010\n",
      " LSTM_Dropout - Epoch 3/10, Loss: 0.0010\n",
      " LSTM_Dropout - Epoch 4/10, Loss: 0.0010\n",
      " LSTM_Dropout - Epoch 5/10, Loss: 0.0010\n",
      " LSTM_Dropout - Epoch 6/10, Loss: 0.0010\n",
      " LSTM_Dropout - Epoch 7/10, Loss: 0.0010\n",
      " LSTM_Dropout - Epoch 8/10, Loss: 0.0010\n",
      " LSTM_Dropout - Epoch 9/10, Loss: 0.0010\n",
      " LSTM_Dropout - Epoch 10/10, Loss: 0.0010\n"
     ]
    }
   ],
   "source": [
    "for name, model in models.items():\n",
    "    print(f\" Training {name} model...\")\n",
    "    train_model(model, name)"
   ]
  },
  {
   "cell_type": "code",
   "execution_count": 16,
   "id": "d48294b4",
   "metadata": {},
   "outputs": [],
   "source": [
    "def evaluate_model(model, X_test, y_test, name):\n",
    "    model.eval()\n",
    "    with torch.no_grad():\n",
    "        y_pred = model(X_test)\n",
    "        mse = nn.MSELoss()(y_pred, y_test).item()\n",
    "    print(f\"{name} MSE: {mse:.6f}\")"
   ]
  },
  {
   "cell_type": "code",
   "execution_count": 17,
   "id": "d46bacfc",
   "metadata": {},
   "outputs": [
    {
     "name": "stdout",
     "output_type": "stream",
     "text": [
      "RNN MSE: 0.000611\n",
      "LSTM MSE: 0.000549\n",
      "BiLSTM MSE: 0.000544\n",
      "LSTM_Dropout MSE: 0.000543\n"
     ]
    }
   ],
   "source": [
    "for name, model in models.items():\n",
    "    evaluate_model(model, X_test, y_test, name)"
   ]
  }
 ],
 "metadata": {
  "kernelspec": {
   "display_name": "Python 3.11 (PyTorch)",
   "language": "python",
   "name": "python311"
  },
  "language_info": {
   "codemirror_mode": {
    "name": "ipython",
    "version": 3
   },
   "file_extension": ".py",
   "mimetype": "text/x-python",
   "name": "python",
   "nbconvert_exporter": "python",
   "pygments_lexer": "ipython3",
   "version": "3.11.6"
  }
 },
 "nbformat": 4,
 "nbformat_minor": 5
}
