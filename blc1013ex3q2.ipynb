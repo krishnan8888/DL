{
 "cells": [
  {
   "cell_type": "code",
   "execution_count": 17,
   "id": "59deba90",
   "metadata": {},
   "outputs": [],
   "source": [
    "import os\n",
    "import numpy as np\n",
    "import tensorflow as tf\n",
    "from tqdm import tqdm"
   ]
  },
  {
   "cell_type": "code",
   "execution_count": 18,
   "id": "f4551cba",
   "metadata": {},
   "outputs": [],
   "source": [
    "def count_images(dataset_path):\n",
    "    \"\"\"Counts the number of images in each subfolder (label) of the dataset.\"\"\"\n",
    "    class_counts = {}\n",
    "    total_images = 0\n",
    "    for label in os.listdir(dataset_path):\n",
    "        label_path = os.path.join(dataset_path, label)\n",
    "        if os.path.isdir(label_path):\n",
    "            count = len(os.listdir(label_path))\n",
    "            class_counts[label] = count\n",
    "            total_images += count\n",
    "    return class_counts, total_images"
   ]
  },
  {
   "cell_type": "code",
   "execution_count": 19,
   "id": "27bedd0d",
   "metadata": {},
   "outputs": [],
   "source": [
    "def load_and_preprocess_image(image_path):\n",
    "    \"\"\"Loads and preprocesses an image using TensorFlow.\"\"\"\n",
    "    img = tf.io.read_file(image_path)\n",
    "    img = tf.image.decode_jpeg(img, channels=3)\n",
    "    img = tf.image.resize(img, [128, 128])\n",
    "    return img"
   ]
  },
  {
   "cell_type": "code",
   "execution_count": 20,
   "id": "9de7785e",
   "metadata": {},
   "outputs": [],
   "source": [
    "def augment_images(input_folder, output_folder, num_augmented=2):\n",
    "    \"\"\"Applies augmentation to images in input_folder and saves to output_folder.\"\"\"\n",
    "    if not os.path.exists(output_folder):\n",
    "        os.makedirs(output_folder)\n",
    "    \n",
    "    for label in tqdm(os.listdir(input_folder), desc=\"Augmenting Data\"):\n",
    "        label_path = os.path.join(input_folder, label)\n",
    "        output_label_path = os.path.join(output_folder, label)\n",
    "        os.makedirs(output_label_path, exist_ok=True)\n",
    "        \n",
    "        if os.path.isdir(label_path):\n",
    "            for img_name in os.listdir(label_path):\n",
    "                img_path = os.path.join(label_path, img_name)\n",
    "                img = load_and_preprocess_image(img_path)\n",
    "                \n",
    "                for i in range(num_augmented):\n",
    "                    augmented_img = tf.image.random_flip_left_right(img)\n",
    "                    augmented_img = tf.image.random_brightness(augmented_img, max_delta=0.2)\n",
    "                    augmented_img = tf.image.random_contrast(augmented_img, lower=0.8, upper=1.2)\n",
    "                    aug_img_name = f\"aug_{i}_{img_name}\"\n",
    "                    aug_img_path = os.path.join(output_label_path, aug_img_name)\n",
    "                    tf.keras.preprocessing.image.save_img(aug_img_path, augmented_img.numpy())"
   ]
  },
  {
   "cell_type": "code",
   "execution_count": 21,
   "id": "4f1b068b",
   "metadata": {},
   "outputs": [],
   "source": [
    "# Define dataset paths\n",
    "dataset_path = r'C:\\Users\\krish\\Downloads\\archive (3)\\traffic_Data'\n",
    "data_path = os.path.join(dataset_path, 'DATA')\n",
    "test_path = os.path.join(dataset_path, 'TEST')"
   ]
  },
  {
   "cell_type": "code",
   "execution_count": 23,
   "id": "7a5d5526",
   "metadata": {},
   "outputs": [
    {
     "name": "stdout",
     "output_type": "stream",
     "text": [
      "Dataset statistics before augmentation:\n",
      "Class-wise counts: {'0': 118, '1': 40, '10': 70, '11': 138, '12': 96, '13': 36, '14': 128, '15': 22, '16': 142, '17': 130, '18': 8, '19': 4, '2': 80, '20': 18, '21': 12, '22': 18, '23': 14, '24': 100, '25': 4, '26': 126, '27': 28, '28': 446, '29': 44, '3': 260, '30': 150, '31': 42, '32': 14, '33': 4, '34': 26, '35': 156, '36': 40, '37': 58, '38': 30, '39': 34, '4': 98, '40': 32, '41': 18, '42': 32, '43': 82, '44': 30, '45': 24, '46': 18, '47': 12, '48': 10, '49': 42, '5': 194, '50': 56, '51': 8, '52': 36, '53': 4, '54': 324, '55': 162, '56': 110, '57': 6, '6': 78, '7': 152, '8': 8, '9': 2}\n",
      "Total images: 4174\n"
     ]
    }
   ],
   "source": [
    "# Count images before augmentation\n",
    "print(\"Dataset statistics before augmentation:\")\n",
    "original_counts, original_total = count_images(data_path)\n",
    "print(\"Class-wise counts:\", original_counts)\n",
    "print(\"Total images:\", original_total)"
   ]
  },
  {
   "cell_type": "code",
   "execution_count": 25,
   "id": "1e5b3c0c",
   "metadata": {},
   "outputs": [
    {
     "name": "stderr",
     "output_type": "stream",
     "text": [
      "Augmenting Data: 100%|█████████████████████████████████████████████████████████████████| 58/58 [01:34<00:00,  1.62s/it]\n"
     ]
    }
   ],
   "source": [
    "#Perform augmentation\n",
    "augmented_path = os.path.join(dataset_path, 'AUGMENTED_DATA')\n",
    "augment_images(data_path, augmented_path, num_augmented=2)\n",
    "\n",
    "# Merge augmented data back to original dataset\n",
    "for label in os.listdir(augmented_path):\n",
    "    aug_label_path = os.path.join(augmented_path, label)\n",
    "    orig_label_path = os.path.join(data_path, label)\n",
    "    os.makedirs(orig_label_path, exist_ok=True)\n",
    "    \n",
    "    for img_name in os.listdir(aug_label_path):\n",
    "        src = os.path.join(aug_label_path, img_name)\n",
    "        dst = os.path.join(orig_label_path, img_name)\n",
    "        os.rename(src, dst)"
   ]
  },
  {
   "cell_type": "code",
   "execution_count": 26,
   "id": "b01ae9e0",
   "metadata": {},
   "outputs": [
    {
     "name": "stdout",
     "output_type": "stream",
     "text": [
      "\n",
      "Dataset statistics after augmentation:\n",
      "Class-wise counts: {'0': 354, '1': 120, '10': 210, '11': 414, '12': 288, '13': 108, '14': 384, '15': 66, '16': 426, '17': 390, '18': 24, '19': 12, '2': 240, '20': 54, '21': 36, '22': 54, '23': 42, '24': 300, '25': 12, '26': 378, '27': 84, '28': 1338, '29': 132, '3': 780, '30': 450, '31': 126, '32': 42, '33': 12, '34': 78, '35': 468, '36': 120, '37': 174, '38': 90, '39': 102, '4': 294, '40': 96, '41': 54, '42': 96, '43': 246, '44': 90, '45': 72, '46': 54, '47': 36, '48': 30, '49': 126, '5': 582, '50': 168, '51': 24, '52': 108, '53': 12, '54': 972, '55': 486, '56': 330, '57': 18, '6': 234, '7': 456, '8': 24, '9': 6}\n",
      "Total images: 12522\n",
      "Percentage increase in dataset size: 200.00%\n"
     ]
    }
   ],
   "source": [
    "# Count images after augmentation\n",
    "print(\"\\nDataset statistics after augmentation:\")\n",
    "final_counts, final_total = count_images(data_path)\n",
    "print(\"Class-wise counts:\", final_counts)\n",
    "print(\"Total images:\", final_total)\n",
    "\n",
    "# Print percentage increase\n",
    "percentage_increase = ((final_total - original_total) / original_total) * 100\n",
    "print(f\"Percentage increase in dataset size: {percentage_increase:.2f}%\")"
   ]
  },
  {
   "cell_type": "code",
   "execution_count": null,
   "id": "07a204c2",
   "metadata": {},
   "outputs": [],
   "source": []
  }
 ],
 "metadata": {
  "kernelspec": {
   "display_name": "Python 3 (ipykernel)",
   "language": "python",
   "name": "python3"
  },
  "language_info": {
   "codemirror_mode": {
    "name": "ipython",
    "version": 3
   },
   "file_extension": ".py",
   "mimetype": "text/x-python",
   "name": "python",
   "nbconvert_exporter": "python",
   "pygments_lexer": "ipython3",
   "version": "3.11.5"
  }
 },
 "nbformat": 4,
 "nbformat_minor": 5
}
