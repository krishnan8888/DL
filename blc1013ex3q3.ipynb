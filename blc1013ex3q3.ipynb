{
 "cells": [
  {
   "cell_type": "code",
   "execution_count": 1,
   "id": "7d6e9985",
   "metadata": {},
   "outputs": [],
   "source": [
    "import tensorflow as tf\n",
    "from tensorflow.keras.preprocessing.image import ImageDataGenerator\n",
    "import os"
   ]
  },
  {
   "cell_type": "code",
   "execution_count": 2,
   "id": "12ecfde5",
   "metadata": {},
   "outputs": [],
   "source": [
    "base_dir = r'C:\\Users\\krish\\Downloads\\archive (4)'\n",
    "train_dir = os.path.join(base_dir, \"Training\")\n",
    "test_dir = os.path.join(base_dir, \"Test\")"
   ]
  },
  {
   "cell_type": "code",
   "execution_count": 3,
   "id": "ad4754f1",
   "metadata": {},
   "outputs": [],
   "source": [
    "img_size = (100, 100)  # Resize all images to 100x100\n",
    "batch_size = 32"
   ]
  },
  {
   "cell_type": "code",
   "execution_count": 4,
   "id": "d91076bf",
   "metadata": {},
   "outputs": [
    {
     "name": "stdout",
     "output_type": "stream",
     "text": [
      "Found 57950 images belonging to 114 classes.\n",
      "Found 19523 images belonging to 114 classes.\n"
     ]
    }
   ],
   "source": [
    "# Data augmentation and generators\n",
    "train_datagen = ImageDataGenerator(rescale=1./255, rotation_range=30, \n",
    "                                   width_shift_range=0.2, height_shift_range=0.2, \n",
    "                                   shear_range=0.2, zoom_range=0.2, \n",
    "                                   horizontal_flip=True, fill_mode=\"nearest\")\n",
    "\n",
    "test_datagen = ImageDataGenerator(rescale=1./255)\n",
    "\n",
    "train_generator = train_datagen.flow_from_directory(\n",
    "    train_dir, target_size=img_size, batch_size=batch_size, class_mode=\"categorical\")\n",
    "\n",
    "test_generator = test_datagen.flow_from_directory(\n",
    "    test_dir, target_size=img_size, batch_size=batch_size, class_mode=\"categorical\")\n"
   ]
  },
  {
   "cell_type": "code",
   "execution_count": 5,
   "id": "dd4edb1d",
   "metadata": {},
   "outputs": [],
   "source": [
    "# Define CNN model\n",
    "model = tf.keras.Sequential([\n",
    "    tf.keras.layers.Conv2D(32, (3,3), activation=\"relu\", input_shape=(100, 100, 3)),\n",
    "    tf.keras.layers.MaxPooling2D(2,2),\n",
    "    \n",
    "    tf.keras.layers.Conv2D(64, (3,3), activation=\"relu\"),\n",
    "    tf.keras.layers.MaxPooling2D(2,2),\n",
    "    \n",
    "    tf.keras.layers.Conv2D(128, (3,3), activation=\"relu\"),\n",
    "    tf.keras.layers.MaxPooling2D(2,2),\n",
    "    \n",
    "    tf.keras.layers.Flatten(),\n",
    "    tf.keras.layers.Dense(512, activation=\"relu\"),\n",
    "    tf.keras.layers.Dropout(0.5),\n",
    "    tf.keras.layers.Dense(len(train_generator.class_indices), activation=\"softmax\")\n",
    "])"
   ]
  },
  {
   "cell_type": "code",
   "execution_count": 6,
   "id": "79e21b62",
   "metadata": {},
   "outputs": [
    {
     "name": "stdout",
     "output_type": "stream",
     "text": [
      "Training classes: 114\n",
      "Testing classes: 114\n"
     ]
    }
   ],
   "source": [
    "print(\"Training classes:\", len(train_generator.class_indices))\n",
    "print(\"Testing classes:\", len(test_generator.class_indices))"
   ]
  },
  {
   "cell_type": "code",
   "execution_count": 7,
   "id": "5ae1156a",
   "metadata": {},
   "outputs": [],
   "source": [
    "# Compile model\n",
    "model.compile(optimizer=\"adam\", loss=\"categorical_crossentropy\", metrics=[\"accuracy\"])"
   ]
  },
  {
   "cell_type": "code",
   "execution_count": 8,
   "id": "91c6755a",
   "metadata": {},
   "outputs": [
    {
     "name": "stdout",
     "output_type": "stream",
     "text": [
      "Epoch 1/10\n",
      "1811/1811 [==============================] - 434s 239ms/step - loss: 1.2941 - accuracy: 0.6179 - val_loss: 0.2342 - val_accuracy: 0.9171\n",
      "Epoch 2/10\n",
      "1811/1811 [==============================] - 408s 225ms/step - loss: 0.3742 - accuracy: 0.8757 - val_loss: 0.1270 - val_accuracy: 0.9635\n",
      "Epoch 3/10\n",
      "1811/1811 [==============================] - 408s 225ms/step - loss: 0.2828 - accuracy: 0.9075 - val_loss: 0.2925 - val_accuracy: 0.9109\n",
      "Epoch 4/10\n",
      "1811/1811 [==============================] - 405s 224ms/step - loss: 0.2272 - accuracy: 0.9247 - val_loss: 0.0839 - val_accuracy: 0.9730\n",
      "Epoch 5/10\n",
      "1811/1811 [==============================] - 409s 226ms/step - loss: 0.2018 - accuracy: 0.9339 - val_loss: 0.0996 - val_accuracy: 0.9732\n",
      "Epoch 6/10\n",
      "1811/1811 [==============================] - 405s 224ms/step - loss: 0.1799 - accuracy: 0.9425 - val_loss: 0.0639 - val_accuracy: 0.9840\n",
      "Epoch 7/10\n",
      "1811/1811 [==============================] - 407s 225ms/step - loss: 0.1612 - accuracy: 0.9494 - val_loss: 0.0597 - val_accuracy: 0.9830\n",
      "Epoch 8/10\n",
      "1811/1811 [==============================] - 409s 226ms/step - loss: 0.1532 - accuracy: 0.9532 - val_loss: 0.0832 - val_accuracy: 0.9698\n",
      "Epoch 9/10\n",
      "1811/1811 [==============================] - 405s 224ms/step - loss: 0.1389 - accuracy: 0.9566 - val_loss: 0.0869 - val_accuracy: 0.9846\n",
      "Epoch 10/10\n",
      "1811/1811 [==============================] - 406s 224ms/step - loss: 0.1394 - accuracy: 0.9575 - val_loss: 0.0765 - val_accuracy: 0.9817\n"
     ]
    },
    {
     "data": {
      "text/plain": [
       "<keras.src.callbacks.History at 0x2497d86f090>"
      ]
     },
     "execution_count": 8,
     "metadata": {},
     "output_type": "execute_result"
    }
   ],
   "source": [
    "model.fit(train_generator, validation_data=test_generator, epochs=10)"
   ]
  },
  {
   "cell_type": "code",
   "execution_count": 9,
   "id": "f237025b",
   "metadata": {},
   "outputs": [
    {
     "name": "stdout",
     "output_type": "stream",
     "text": [
      "611/611 [==============================] - 28s 46ms/step - loss: 0.0765 - accuracy: 0.9817\n",
      "Test Accuracy: 0.98\n"
     ]
    }
   ],
   "source": [
    "# Evaluate on test set\n",
    "test_loss, test_acc = model.evaluate(test_generator)\n",
    "print(f\"Test Accuracy: {test_acc:.2f}\")"
   ]
  }
 ],
 "metadata": {
  "kernelspec": {
   "display_name": "Python 3 (ipykernel)",
   "language": "python",
   "name": "python3"
  },
  "language_info": {
   "codemirror_mode": {
    "name": "ipython",
    "version": 3
   },
   "file_extension": ".py",
   "mimetype": "text/x-python",
   "name": "python",
   "nbconvert_exporter": "python",
   "pygments_lexer": "ipython3",
   "version": "3.11.5"
  }
 },
 "nbformat": 4,
 "nbformat_minor": 5
}
